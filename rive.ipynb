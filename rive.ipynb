{
 "cells": [
  {
   "cell_type": "code",
   "execution_count": 302,
   "metadata": {},
   "outputs": [],
   "source": [
    "import pandas as pd\n",
    "import numpy as np\n",
    "\n",
    "import matplotlib\n",
    "import matplotlib.pyplot as plt\n",
    "\n",
    "import warnings\n",
    "warnings.filterwarnings('ignore')\n"
   ]
  },
  {
   "cell_type": "code",
   "execution_count": 303,
   "metadata": {},
   "outputs": [],
   "source": [
    "## Load our Dataframes\n",
    "df_mesure = pd.read_csv('l-mesuretemprivieres-d-r28.csv')  \n",
    "df_reseau = pd.read_csv('l-reseautemprivieres-d-r28.csv')\n",
    "df_full = df_mesure.join(df_reseau.set_index('id_sonde'), on='id_sonde')\n"
   ]
  },
  {
   "cell_type": "code",
   "execution_count": 304,
   "metadata": {},
   "outputs": [],
   "source": [
    "#Clean our datas\n",
    "df_full['Teau'] = df_full['Teau'].str.replace(',','.')#Since it's a french DF we replace the , in str to a .\n",
    "df_full[\"Teau\"] = pd.to_numeric(df_full[\"Teau\"])#That way we can convert it to numeric values\n",
    "\n",
    "df_full[\"date_mesure\"] = pd.to_datetime(df_full[\"date_mesure\"])#Convert to datetime, it's easier"
   ]
  },
  {
   "cell_type": "code",
   "execution_count": 325,
   "metadata": {},
   "outputs": [
    {
     "name": "stdout",
     "output_type": "stream",
     "text": [
      "We have a total of 398786 rows\n",
      "We have 370803 rows where the temp is inferior to 19° so all good\n",
      "We have 27983 rows where the temp is superior or egal to 19° so pretty bad\n",
      "13.251188221420147% of values dangerous to trout\n",
      "lib_sonde \n",
      "Orne T2       5123\n",
      "Orne T3       4962\n",
      "Orne T1       4139\n",
      "Selune T4     3585\n",
      "Selune T5     3399\n",
      "Selune T2     2880\n",
      "Selune T1     1563\n",
      "Odon T5        589\n",
      "Odon T4        441\n",
      "Touques T6     399\n",
      "Odon T2        343\n",
      "Ving Bec       237\n",
      "Monne          163\n",
      "Touques T4     142\n",
      "Touques T3      15\n",
      "Barge            3\n",
      "dtype: int64\n",
      "year\n",
      "2017    6304\n",
      "2018    5333\n",
      "2016    4775\n",
      "2013    4190\n",
      "2015    4096\n",
      "2014    3285\n",
      "dtype: int64\n"
     ]
    },
    {
     "data": {
      "text/plain": [
       "<AxesSubplot:ylabel='Frequency'>"
      ]
     },
     "execution_count": 325,
     "metadata": {},
     "output_type": "execute_result"
    },
    {
     "data": {
      "image/png": "[encoded data removed]",
      "text/plain": [
       "<Figure size 432x288 with 1 Axes>"
      ]
     },
     "metadata": {
      "needs_background": "light"
     },
     "output_type": "display_data"
    }
   ],
   "source": [
    "# The lowest temp where trout have trouble is 19° so we search every row where it's the case\n",
    "# And look if it's in a specific place or a specific year\n",
    "a = df_full.loc[df_full['Teau'] >= 19]\n",
    "a['year'] = a['date_mesure'].dt.year\n",
    "\n",
    "print(f\"We have a total of {df_full['Teau'].count()} rows\")\n",
    "print(f\"We have {df_full['Teau'].loc[df_full['Teau']< 19].count()} rows where the temp is inferior to 19° so all good\")\n",
    "print(f\"We have {df_full['Teau'].loc[df_full['Teau']>= 19].count()} rows where the temp is superior or egal to 19° so pretty bad\")\n",
    "print(f\"{370808/27983}% of values dangerous to trout\")\n",
    "\n",
    "print(a.value_counts([\"lib_sonde\"]))\n",
    "print(a.value_counts(['year']))\n",
    "# And we can see that there are places where we have less temp > 19° recorded.\n",
    "# But by year we seem to have an augmentation per year but isince it's only 5 years nothing significative\n",
    "\n",
    "a.value_counts([\"lib_sonde\"]).plot(kind=\"hist\")"
   ]
  },
  {
   "cell_type": "code",
   "execution_count": 315,
   "metadata": {},
   "outputs": [
    {
     "name": "stdout",
     "output_type": "stream",
     "text": [
      "lib_sonde\n",
      "Barge         11.028016\n",
      "Monne         11.084887\n",
      "Odon T2       11.705813\n",
      "Odon T4       11.972710\n",
      "Odon T5       12.326596\n",
      "Orne T1       13.126211\n",
      "Orne T2       13.512869\n",
      "Orne T3       13.438443\n",
      "Selune T1     12.593190\n",
      "Selune T2     12.992335\n",
      "Selune T4     13.430697\n",
      "Selune T5     13.422188\n",
      "Touques T1    11.261529\n",
      "Touques T3    11.418670\n",
      "Touques T4    11.702119\n",
      "Touques T6    12.301855\n",
      "Ving Bec      11.272774\n",
      "Name: Teau, dtype: float64\n",
      "lib_sonde\n",
      "Barge         14.334306\n",
      "Monne         15.040328\n",
      "Odon T2       15.472961\n",
      "Odon T4       15.962775\n",
      "Odon T5       16.415134\n",
      "Orne T1       18.780170\n",
      "Orne T2       19.447032\n",
      "Orne T3       19.324786\n",
      "Selune T1     17.042278\n",
      "Selune T2     17.681540\n",
      "Selune T4     18.436422\n",
      "Selune T5     18.391596\n",
      "Touques T1    14.282347\n",
      "Touques T3    14.555219\n",
      "Touques T4    15.306332\n",
      "Touques T6    15.965354\n",
      "Ving Bec      14.716911\n",
      "Name: Teau, dtype: float64\n"
     ]
    },
    {
     "data": {
      "text/plain": [
       "<AxesSubplot:xlabel='lib_sonde'>"
      ]
     },
     "execution_count": 315,
     "metadata": {},
     "output_type": "execute_result"
    },
    {
     "data": {
      "image/png": "[encoded data removed]",
      "text/plain": [
       "<Figure size 432x288 with 1 Axes>"
      ]
     },
     "metadata": {
      "needs_background": "light"
     },
     "output_type": "display_data"
    }
   ],
   "source": [
    "# Mean temperature per zone and especially in summer\n",
    "w = df_full.groupby([\"lib_sonde\"])\n",
    "print(w.Teau.mean())\n",
    "\n",
    "v = df_full\n",
    "v['month'] = v['date_mesure'].dt.month\n",
    "v = v.loc[(v['month'] > 5) &  (v['month'] < 10)]\n",
    "v = v.groupby([\"lib_sonde\"])\n",
    "print(v.Teau.mean())\n",
    "# We can see that the focusing in summer is realling important\n",
    "# And we can see that there are some area that are hotter than other\n",
    "v.Teau.mean().plot()\n"
   ]
  },
  {
   "cell_type": "code",
   "execution_count": 324,
   "metadata": {},
   "outputs": [
    {
     "data": {
      "text/plain": [
       "<AxesSubplot:xlabel='year'>"
      ]
     },
     "execution_count": 324,
     "metadata": {},
     "output_type": "execute_result"
    },
    {
     "data": {
      "image/png": "[encoded data removed]",
      "text/plain": [
       "<Figure size 432x288 with 1 Axes>"
      ]
     },
     "metadata": {
      "needs_background": "light"
     },
     "output_type": "display_data"
    }
   ],
   "source": [
    "a.value_counts(['year']).plot()"
   ]
  },
  {
   "cell_type": "code",
   "execution_count": 316,
   "metadata": {},
   "outputs": [
    {
     "data": {
      "text/plain": [
       "<AxesSubplot:ylabel='Frequency'>"
      ]
     },
     "execution_count": 316,
     "metadata": {},
     "output_type": "execute_result"
    },
    {
     "data": {
      "image/png": "[encoded data removed]",
      "text/plain": [
       "<Figure size 432x288 with 1 Axes>"
      ]
     },
     "metadata": {
      "needs_background": "light"
     },
     "output_type": "display_data"
    }
   ],
   "source": [
    "v.Teau.mean().plot(kind=\"hist\")\n",
    "# The frequency of 19 is pretty high"
   ]
  },
  {
   "cell_type": "code",
   "execution_count": 317,
   "metadata": {},
   "outputs": [],
   "source": [
    "# Essayez de faire une carte en utilisant les coord en fonction des temps moyennes"
   ]
  },
  {
   "cell_type": "code",
   "execution_count": null,
   "metadata": {},
   "outputs": [],
   "source": [
    "''' WORKING BUT NOT READABLE\n",
    "p = df_full.groupby(df_full.date_mesure.dt.to_period(\"M\"))\n",
    "labels = list(p.groups)\n",
    "means = p['Teau'].mean().tolist()\n",
    "means = [round(num, 1) for num in means]\n",
    "\n",
    "x = np.arange(len(labels))  # the label locations\n",
    "width = 0.35  # the width of the bars\n",
    "\n",
    "fig, ax = plt.subplots()\n",
    "rects1 = ax.bar(x - width/2, means, width, label='Men')\n",
    "\n",
    "\n",
    "# Add some text for labels, title and custom x-axis tick labels, etc.\n",
    "ax.set_ylabel('Scores')\n",
    "ax.set_title('Scores by group and gender')\n",
    "ax.set_xticks(x)\n",
    "ax.set_xticklabels(labels)\n",
    "ax.legend()\n",
    "\n",
    "\n",
    "def autolabel(rects):\n",
    "    \"\"\"Attach a text label above each bar in *rects*, displaying its height.\"\"\"\n",
    "    for rect in rects:\n",
    "        height = rect.get_height()\n",
    "        ax.annotate('{}'.format(height),\n",
    "                    xy=(rect.get_x() + rect.get_width() / 2, height),\n",
    "                    xytext=(0, 3),  # 3 points vertical offset\n",
    "                    textcoords=\"offset points\",\n",
    "                    ha='center', va='bottom')\n",
    "\n",
    "\n",
    "autolabel(rects1)\n",
    "\n",
    "fig.tight_layout()\n",
    "\n",
    "plt.show()\n",
    "'''"
   ]
  }
 ],
 "metadata": {
  "kernelspec": {
   "display_name": "Python 3",
   "language": "python",
   "name": "python3"
  },
  "language_info": {
   "codemirror_mode": {
    "name": "ipython",
    "version": 3
   },
   "file_extension": ".py",
   "mimetype": "text/x-python",
   "name": "python",
   "nbconvert_exporter": "python",
   "pygments_lexer": "ipython3",
   "version": "3.8.5"
  }
 },
 "nbformat": 4,
 "nbformat_minor": 4
}
